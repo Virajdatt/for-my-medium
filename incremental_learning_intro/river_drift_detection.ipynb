{
  "nbformat": 4,
  "nbformat_minor": 0,
  "metadata": {
    "colab": {
      "name": "river-drift-detection.ipynb",
      "provenance": []
    },
    "kernelspec": {
      "name": "python3",
      "display_name": "Python 3"
    },
    "language_info": {
      "name": "python"
    }
  },
  "cells": [
    {
      "cell_type": "markdown",
      "source": [
        "## First Let us Install River Package"
      ],
      "metadata": {
        "id": "KB9e60Zg-yuq"
      }
    },
    {
      "cell_type": "code",
      "source": [
        "!pip install river"
      ],
      "metadata": {
        "colab": {
          "base_uri": "https://localhost:8080/"
        },
        "id": "0XsEDcib-yQf",
        "outputId": "0dece9ac-4da2-4311-9302-8619c61f1546"
      },
      "execution_count": null,
      "outputs": [
        {
          "output_type": "stream",
          "name": "stdout",
          "text": [
            "Looking in indexes: https://pypi.org/simple, https://us-python.pkg.dev/colab-wheels/public/simple/\n",
            "Collecting river\n",
            "  Downloading river-0.10.1-cp37-cp37m-manylinux_2_5_x86_64.manylinux1_x86_64.manylinux_2_17_x86_64.manylinux2014_x86_64.whl (2.0 MB)\n",
            "\u001b[K     |████████████████████████████████| 2.0 MB 4.4 MB/s \n",
            "\u001b[?25hRequirement already satisfied: pandas>=1.0.1 in /usr/local/lib/python3.7/dist-packages (from river) (1.3.5)\n",
            "Requirement already satisfied: numpy>=1.20.0 in /usr/local/lib/python3.7/dist-packages (from river) (1.21.6)\n",
            "Requirement already satisfied: scipy>=1.4.1 in /usr/local/lib/python3.7/dist-packages (from river) (1.4.1)\n",
            "Requirement already satisfied: pytz>=2017.3 in /usr/local/lib/python3.7/dist-packages (from pandas>=1.0.1->river) (2022.1)\n",
            "Requirement already satisfied: python-dateutil>=2.7.3 in /usr/local/lib/python3.7/dist-packages (from pandas>=1.0.1->river) (2.8.2)\n",
            "Requirement already satisfied: six>=1.5 in /usr/local/lib/python3.7/dist-packages (from python-dateutil>=2.7.3->pandas>=1.0.1->river) (1.15.0)\n",
            "Installing collected packages: river\n",
            "Successfully installed river-0.10.1\n"
          ]
        }
      ]
    },
    {
      "cell_type": "markdown",
      "source": [
        "## 1. Drift Detection using *ADWIN*"
      ],
      "metadata": {
        "id": "VyMlPYbi-xbV"
      }
    },
    {
      "cell_type": "code",
      "source": [
        "import numpy as np\n",
        "from river import drift\n",
        "\n",
        "np.random.seed(42)\n",
        "\n",
        "## Let us first create a 1000 datapoints with Standard Normal distribution (values will be between -1 to 1)\n",
        "\n",
        "simulated_stream_data = np.random.randn(1000)\n",
        "print(simulated_stream_data[:10]) \n",
        "\n",
        "# Data concept are changed from index 599 to 999 (we change the datapoints here) \n",
        "for j in range(599, 1000):\n",
        "    simulated_stream_data[j] = np.random.randint(5, high=9)\n",
        "\n",
        "\n",
        "adwin = drift.ADWIN()\n",
        "\n",
        "for i, val in enumerate(simulated_stream_data):\n",
        "  in_drift, _ = adwin.update(val)\n",
        "  # we try to detect Drift\n",
        "  if in_drift:\n",
        "    print(f\"Change detected at index {i}, input value: {val}\")\n",
        "    adwin.reset()  # Good practice\n",
        "\n",
        "## We see that the algorithm detected drift at the index 639 that is after seeing additional 40 odd points "
      ],
      "metadata": {
        "colab": {
          "base_uri": "https://localhost:8080/"
        },
        "id": "puuau0IJ-urk",
        "outputId": "f9950dff-1742-4871-f20b-16d2a83815a1"
      },
      "execution_count": null,
      "outputs": [
        {
          "output_type": "stream",
          "name": "stdout",
          "text": [
            "[ 0.49671415 -0.1382643   0.64768854  1.52302986 -0.23415337 -0.23413696\n",
            "  1.57921282  0.76743473 -0.46947439  0.54256004]\n",
            "Change detected at index 639, input value: 5.0\n"
          ]
        }
      ]
    },
    {
      "cell_type": "markdown",
      "source": [
        "## 2. Drift Detection using *EDDM*"
      ],
      "metadata": {
        "id": "vW1yRS4V_s0X"
      }
    },
    {
      "cell_type": "code",
      "source": [
        "import random\n",
        "from river import drift\n",
        "\n",
        "rng = random.Random(42)\n",
        "eddm = drift.EDDM()\n",
        "\n",
        "# Simulate a data stream as a uniform distribution of 1's and 0's\n",
        "data_stream = rng.choices([0, 1], k=2000)\n",
        "# Change the data distribution from index 999 to 1500, simulating an\n",
        "# increase in error rate (1 indicates error)\n",
        "data_stream[999:1500] = [1] * 500\n",
        "\n",
        "# Update drift detector and verify if change is detected\n",
        "for i, val in enumerate(data_stream):\n",
        "  in_drift, in_warning = eddm.update(val)\n",
        "  if in_drift:\n",
        "      print(f\"Change detected at index {i}, input value: {val}\")"
      ],
      "metadata": {
        "colab": {
          "base_uri": "https://localhost:8080/"
        },
        "id": "MwR2uxSEAQqg",
        "outputId": "8a0b63c9-28f2-47ec-af3d-76c7777af80a"
      },
      "execution_count": null,
      "outputs": [
        {
          "output_type": "stream",
          "name": "stdout",
          "text": [
            "Change detected at index 105, input value: 1\n",
            "Change detected at index 245, input value: 1\n",
            "Change detected at index 332, input value: 1\n",
            "Change detected at index 451, input value: 1\n",
            "Change detected at index 537, input value: 1\n",
            "Change detected at index 843, input value: 1\n",
            "Change detected at index 914, input value: 1\n",
            "Change detected at index 1015, input value: 1\n"
          ]
        }
      ]
    },
    {
      "cell_type": "code",
      "source": [
        ""
      ],
      "metadata": {
        "id": "FIQC67TNAz8w"
      },
      "execution_count": null,
      "outputs": []
    }
  ]
}