{
  "nbformat": 4,
  "nbformat_minor": 0,
  "metadata": {
    "colab": {
      "name": "river-ensemble.ipynb",
      "provenance": []
    },
    "kernelspec": {
      "name": "python3",
      "display_name": "Python 3"
    },
    "language_info": {
      "name": "python"
    }
  },
  "cells": [
    {
      "cell_type": "code",
      "execution_count": null,
      "metadata": {
        "colab": {
          "base_uri": "https://localhost:8080/"
        },
        "id": "8mWVlwaCFzYS",
        "outputId": "a7266cad-8d71-4bfb-a68a-7ef4aae75bb7"
      },
      "outputs": [
        {
          "output_type": "stream",
          "name": "stdout",
          "text": [
            "\u001b[?25l\r\u001b[K     |▏                               | 10 kB 16.6 MB/s eta 0:00:01\r\u001b[K     |▎                               | 20 kB 11.7 MB/s eta 0:00:01\r\u001b[K     |▌                               | 30 kB 8.9 MB/s eta 0:00:01\r\u001b[K     |▋                               | 40 kB 4.6 MB/s eta 0:00:01\r\u001b[K     |▉                               | 51 kB 4.5 MB/s eta 0:00:01\r\u001b[K     |█                               | 61 kB 5.3 MB/s eta 0:00:01\r\u001b[K     |█▏                              | 71 kB 5.4 MB/s eta 0:00:01\r\u001b[K     |█▎                              | 81 kB 3.8 MB/s eta 0:00:01\r\u001b[K     |█▌                              | 92 kB 4.2 MB/s eta 0:00:01\r\u001b[K     |█▋                              | 102 kB 4.6 MB/s eta 0:00:01\r\u001b[K     |█▉                              | 112 kB 4.6 MB/s eta 0:00:01\r\u001b[K     |██                              | 122 kB 4.6 MB/s eta 0:00:01\r\u001b[K     |██▏                             | 133 kB 4.6 MB/s eta 0:00:01\r\u001b[K     |██▎                             | 143 kB 4.6 MB/s eta 0:00:01\r\u001b[K     |██▌                             | 153 kB 4.6 MB/s eta 0:00:01\r\u001b[K     |██▋                             | 163 kB 4.6 MB/s eta 0:00:01\r\u001b[K     |██▉                             | 174 kB 4.6 MB/s eta 0:00:01\r\u001b[K     |███                             | 184 kB 4.6 MB/s eta 0:00:01\r\u001b[K     |███▏                            | 194 kB 4.6 MB/s eta 0:00:01\r\u001b[K     |███▎                            | 204 kB 4.6 MB/s eta 0:00:01\r\u001b[K     |███▌                            | 215 kB 4.6 MB/s eta 0:00:01\r\u001b[K     |███▋                            | 225 kB 4.6 MB/s eta 0:00:01\r\u001b[K     |███▊                            | 235 kB 4.6 MB/s eta 0:00:01\r\u001b[K     |████                            | 245 kB 4.6 MB/s eta 0:00:01\r\u001b[K     |████                            | 256 kB 4.6 MB/s eta 0:00:01\r\u001b[K     |████▎                           | 266 kB 4.6 MB/s eta 0:00:01\r\u001b[K     |████▍                           | 276 kB 4.6 MB/s eta 0:00:01\r\u001b[K     |████▋                           | 286 kB 4.6 MB/s eta 0:00:01\r\u001b[K     |████▊                           | 296 kB 4.6 MB/s eta 0:00:01\r\u001b[K     |█████                           | 307 kB 4.6 MB/s eta 0:00:01\r\u001b[K     |█████                           | 317 kB 4.6 MB/s eta 0:00:01\r\u001b[K     |█████▎                          | 327 kB 4.6 MB/s eta 0:00:01\r\u001b[K     |█████▍                          | 337 kB 4.6 MB/s eta 0:00:01\r\u001b[K     |█████▋                          | 348 kB 4.6 MB/s eta 0:00:01\r\u001b[K     |█████▊                          | 358 kB 4.6 MB/s eta 0:00:01\r\u001b[K     |██████                          | 368 kB 4.6 MB/s eta 0:00:01\r\u001b[K     |██████                          | 378 kB 4.6 MB/s eta 0:00:01\r\u001b[K     |██████▎                         | 389 kB 4.6 MB/s eta 0:00:01\r\u001b[K     |██████▍                         | 399 kB 4.6 MB/s eta 0:00:01\r\u001b[K     |██████▋                         | 409 kB 4.6 MB/s eta 0:00:01\r\u001b[K     |██████▊                         | 419 kB 4.6 MB/s eta 0:00:01\r\u001b[K     |███████                         | 430 kB 4.6 MB/s eta 0:00:01\r\u001b[K     |███████                         | 440 kB 4.6 MB/s eta 0:00:01\r\u001b[K     |███████▎                        | 450 kB 4.6 MB/s eta 0:00:01\r\u001b[K     |███████▍                        | 460 kB 4.6 MB/s eta 0:00:01\r\u001b[K     |███████▌                        | 471 kB 4.6 MB/s eta 0:00:01\r\u001b[K     |███████▊                        | 481 kB 4.6 MB/s eta 0:00:01\r\u001b[K     |███████▉                        | 491 kB 4.6 MB/s eta 0:00:01\r\u001b[K     |████████                        | 501 kB 4.6 MB/s eta 0:00:01\r\u001b[K     |████████▏                       | 512 kB 4.6 MB/s eta 0:00:01\r\u001b[K     |████████▍                       | 522 kB 4.6 MB/s eta 0:00:01\r\u001b[K     |████████▌                       | 532 kB 4.6 MB/s eta 0:00:01\r\u001b[K     |████████▊                       | 542 kB 4.6 MB/s eta 0:00:01\r\u001b[K     |████████▉                       | 552 kB 4.6 MB/s eta 0:00:01\r\u001b[K     |█████████                       | 563 kB 4.6 MB/s eta 0:00:01\r\u001b[K     |█████████▏                      | 573 kB 4.6 MB/s eta 0:00:01\r\u001b[K     |█████████▍                      | 583 kB 4.6 MB/s eta 0:00:01\r\u001b[K     |█████████▌                      | 593 kB 4.6 MB/s eta 0:00:01\r\u001b[K     |█████████▊                      | 604 kB 4.6 MB/s eta 0:00:01\r\u001b[K     |█████████▉                      | 614 kB 4.6 MB/s eta 0:00:01\r\u001b[K     |██████████                      | 624 kB 4.6 MB/s eta 0:00:01\r\u001b[K     |██████████▏                     | 634 kB 4.6 MB/s eta 0:00:01\r\u001b[K     |██████████▍                     | 645 kB 4.6 MB/s eta 0:00:01\r\u001b[K     |██████████▌                     | 655 kB 4.6 MB/s eta 0:00:01\r\u001b[K     |██████████▊                     | 665 kB 4.6 MB/s eta 0:00:01\r\u001b[K     |██████████▉                     | 675 kB 4.6 MB/s eta 0:00:01\r\u001b[K     |███████████                     | 686 kB 4.6 MB/s eta 0:00:01\r\u001b[K     |███████████▏                    | 696 kB 4.6 MB/s eta 0:00:01\r\u001b[K     |███████████▎                    | 706 kB 4.6 MB/s eta 0:00:01\r\u001b[K     |███████████▌                    | 716 kB 4.6 MB/s eta 0:00:01\r\u001b[K     |███████████▋                    | 727 kB 4.6 MB/s eta 0:00:01\r\u001b[K     |███████████▉                    | 737 kB 4.6 MB/s eta 0:00:01\r\u001b[K     |████████████                    | 747 kB 4.6 MB/s eta 0:00:01\r\u001b[K     |████████████▏                   | 757 kB 4.6 MB/s eta 0:00:01\r\u001b[K     |████████████▎                   | 768 kB 4.6 MB/s eta 0:00:01\r\u001b[K     |████████████▌                   | 778 kB 4.6 MB/s eta 0:00:01\r\u001b[K     |████████████▋                   | 788 kB 4.6 MB/s eta 0:00:01\r\u001b[K     |████████████▉                   | 798 kB 4.6 MB/s eta 0:00:01\r\u001b[K     |█████████████                   | 808 kB 4.6 MB/s eta 0:00:01\r\u001b[K     |█████████████▏                  | 819 kB 4.6 MB/s eta 0:00:01\r\u001b[K     |█████████████▎                  | 829 kB 4.6 MB/s eta 0:00:01\r\u001b[K     |█████████████▌                  | 839 kB 4.6 MB/s eta 0:00:01\r\u001b[K     |█████████████▋                  | 849 kB 4.6 MB/s eta 0:00:01\r\u001b[K     |█████████████▉                  | 860 kB 4.6 MB/s eta 0:00:01\r\u001b[K     |██████████████                  | 870 kB 4.6 MB/s eta 0:00:01\r\u001b[K     |██████████████▏                 | 880 kB 4.6 MB/s eta 0:00:01\r\u001b[K     |██████████████▎                 | 890 kB 4.6 MB/s eta 0:00:01\r\u001b[K     |██████████████▌                 | 901 kB 4.6 MB/s eta 0:00:01\r\u001b[K     |██████████████▋                 | 911 kB 4.6 MB/s eta 0:00:01\r\u001b[K     |██████████████▊                 | 921 kB 4.6 MB/s eta 0:00:01\r\u001b[K     |███████████████                 | 931 kB 4.6 MB/s eta 0:00:01\r\u001b[K     |███████████████                 | 942 kB 4.6 MB/s eta 0:00:01\r\u001b[K     |███████████████▎                | 952 kB 4.6 MB/s eta 0:00:01\r\u001b[K     |███████████████▍                | 962 kB 4.6 MB/s eta 0:00:01\r\u001b[K     |███████████████▋                | 972 kB 4.6 MB/s eta 0:00:01\r\u001b[K     |███████████████▊                | 983 kB 4.6 MB/s eta 0:00:01\r\u001b[K     |████████████████                | 993 kB 4.6 MB/s eta 0:00:01\r\u001b[K     |████████████████                | 1.0 MB 4.6 MB/s eta 0:00:01\r\u001b[K     |████████████████▎               | 1.0 MB 4.6 MB/s eta 0:00:01\r\u001b[K     |████████████████▍               | 1.0 MB 4.6 MB/s eta 0:00:01\r\u001b[K     |████████████████▋               | 1.0 MB 4.6 MB/s eta 0:00:01\r\u001b[K     |████████████████▊               | 1.0 MB 4.6 MB/s eta 0:00:01\r\u001b[K     |█████████████████               | 1.1 MB 4.6 MB/s eta 0:00:01\r\u001b[K     |█████████████████               | 1.1 MB 4.6 MB/s eta 0:00:01\r\u001b[K     |█████████████████▎              | 1.1 MB 4.6 MB/s eta 0:00:01\r\u001b[K     |█████████████████▍              | 1.1 MB 4.6 MB/s eta 0:00:01\r\u001b[K     |█████████████████▋              | 1.1 MB 4.6 MB/s eta 0:00:01\r\u001b[K     |█████████████████▊              | 1.1 MB 4.6 MB/s eta 0:00:01\r\u001b[K     |██████████████████              | 1.1 MB 4.6 MB/s eta 0:00:01\r\u001b[K     |██████████████████              | 1.1 MB 4.6 MB/s eta 0:00:01\r\u001b[K     |██████████████████▎             | 1.1 MB 4.6 MB/s eta 0:00:01\r\u001b[K     |██████████████████▍             | 1.1 MB 4.6 MB/s eta 0:00:01\r\u001b[K     |██████████████████▌             | 1.2 MB 4.6 MB/s eta 0:00:01\r\u001b[K     |██████████████████▊             | 1.2 MB 4.6 MB/s eta 0:00:01\r\u001b[K     |██████████████████▉             | 1.2 MB 4.6 MB/s eta 0:00:01\r\u001b[K     |███████████████████             | 1.2 MB 4.6 MB/s eta 0:00:01\r\u001b[K     |███████████████████▏            | 1.2 MB 4.6 MB/s eta 0:00:01\r\u001b[K     |███████████████████▍            | 1.2 MB 4.6 MB/s eta 0:00:01\r\u001b[K     |███████████████████▌            | 1.2 MB 4.6 MB/s eta 0:00:01\r\u001b[K     |███████████████████▊            | 1.2 MB 4.6 MB/s eta 0:00:01\r\u001b[K     |███████████████████▉            | 1.2 MB 4.6 MB/s eta 0:00:01\r\u001b[K     |████████████████████            | 1.2 MB 4.6 MB/s eta 0:00:01\r\u001b[K     |████████████████████▏           | 1.3 MB 4.6 MB/s eta 0:00:01\r\u001b[K     |████████████████████▍           | 1.3 MB 4.6 MB/s eta 0:00:01\r\u001b[K     |████████████████████▌           | 1.3 MB 4.6 MB/s eta 0:00:01\r\u001b[K     |████████████████████▊           | 1.3 MB 4.6 MB/s eta 0:00:01\r\u001b[K     |████████████████████▉           | 1.3 MB 4.6 MB/s eta 0:00:01\r\u001b[K     |█████████████████████           | 1.3 MB 4.6 MB/s eta 0:00:01\r\u001b[K     |█████████████████████▏          | 1.3 MB 4.6 MB/s eta 0:00:01\r\u001b[K     |█████████████████████▍          | 1.3 MB 4.6 MB/s eta 0:00:01\r\u001b[K     |█████████████████████▌          | 1.3 MB 4.6 MB/s eta 0:00:01\r\u001b[K     |█████████████████████▊          | 1.4 MB 4.6 MB/s eta 0:00:01\r\u001b[K     |█████████████████████▉          | 1.4 MB 4.6 MB/s eta 0:00:01\r\u001b[K     |██████████████████████          | 1.4 MB 4.6 MB/s eta 0:00:01\r\u001b[K     |██████████████████████▏         | 1.4 MB 4.6 MB/s eta 0:00:01\r\u001b[K     |██████████████████████▎         | 1.4 MB 4.6 MB/s eta 0:00:01\r\u001b[K     |██████████████████████▌         | 1.4 MB 4.6 MB/s eta 0:00:01\r\u001b[K     |██████████████████████▋         | 1.4 MB 4.6 MB/s eta 0:00:01\r\u001b[K     |██████████████████████▉         | 1.4 MB 4.6 MB/s eta 0:00:01\r\u001b[K     |███████████████████████         | 1.4 MB 4.6 MB/s eta 0:00:01\r\u001b[K     |███████████████████████▏        | 1.4 MB 4.6 MB/s eta 0:00:01\r\u001b[K     |███████████████████████▎        | 1.5 MB 4.6 MB/s eta 0:00:01\r\u001b[K     |███████████████████████▌        | 1.5 MB 4.6 MB/s eta 0:00:01\r\u001b[K     |███████████████████████▋        | 1.5 MB 4.6 MB/s eta 0:00:01\r\u001b[K     |███████████████████████▉        | 1.5 MB 4.6 MB/s eta 0:00:01\r\u001b[K     |████████████████████████        | 1.5 MB 4.6 MB/s eta 0:00:01\r\u001b[K     |████████████████████████▏       | 1.5 MB 4.6 MB/s eta 0:00:01\r\u001b[K     |████████████████████████▎       | 1.5 MB 4.6 MB/s eta 0:00:01\r\u001b[K     |████████████████████████▌       | 1.5 MB 4.6 MB/s eta 0:00:01\r\u001b[K     |████████████████████████▋       | 1.5 MB 4.6 MB/s eta 0:00:01\r\u001b[K     |████████████████████████▉       | 1.5 MB 4.6 MB/s eta 0:00:01\r\u001b[K     |█████████████████████████       | 1.6 MB 4.6 MB/s eta 0:00:01\r\u001b[K     |█████████████████████████▏      | 1.6 MB 4.6 MB/s eta 0:00:01\r\u001b[K     |█████████████████████████▎      | 1.6 MB 4.6 MB/s eta 0:00:01\r\u001b[K     |█████████████████████████▌      | 1.6 MB 4.6 MB/s eta 0:00:01\r\u001b[K     |█████████████████████████▋      | 1.6 MB 4.6 MB/s eta 0:00:01\r\u001b[K     |█████████████████████████▊      | 1.6 MB 4.6 MB/s eta 0:00:01\r\u001b[K     |██████████████████████████      | 1.6 MB 4.6 MB/s eta 0:00:01\r\u001b[K     |██████████████████████████      | 1.6 MB 4.6 MB/s eta 0:00:01\r\u001b[K     |██████████████████████████▎     | 1.6 MB 4.6 MB/s eta 0:00:01\r\u001b[K     |██████████████████████████▍     | 1.6 MB 4.6 MB/s eta 0:00:01\r\u001b[K     |██████████████████████████▋     | 1.7 MB 4.6 MB/s eta 0:00:01\r\u001b[K     |██████████████████████████▊     | 1.7 MB 4.6 MB/s eta 0:00:01\r\u001b[K     |███████████████████████████     | 1.7 MB 4.6 MB/s eta 0:00:01\r\u001b[K     |███████████████████████████     | 1.7 MB 4.6 MB/s eta 0:00:01\r\u001b[K     |███████████████████████████▎    | 1.7 MB 4.6 MB/s eta 0:00:01\r\u001b[K     |███████████████████████████▍    | 1.7 MB 4.6 MB/s eta 0:00:01\r\u001b[K     |███████████████████████████▋    | 1.7 MB 4.6 MB/s eta 0:00:01\r\u001b[K     |███████████████████████████▊    | 1.7 MB 4.6 MB/s eta 0:00:01\r\u001b[K     |████████████████████████████    | 1.7 MB 4.6 MB/s eta 0:00:01\r\u001b[K     |████████████████████████████    | 1.8 MB 4.6 MB/s eta 0:00:01\r\u001b[K     |████████████████████████████▎   | 1.8 MB 4.6 MB/s eta 0:00:01\r\u001b[K     |████████████████████████████▍   | 1.8 MB 4.6 MB/s eta 0:00:01\r\u001b[K     |████████████████████████████▋   | 1.8 MB 4.6 MB/s eta 0:00:01\r\u001b[K     |████████████████████████████▊   | 1.8 MB 4.6 MB/s eta 0:00:01\r\u001b[K     |█████████████████████████████   | 1.8 MB 4.6 MB/s eta 0:00:01\r\u001b[K     |█████████████████████████████   | 1.8 MB 4.6 MB/s eta 0:00:01\r\u001b[K     |█████████████████████████████▏  | 1.8 MB 4.6 MB/s eta 0:00:01\r\u001b[K     |█████████████████████████████▍  | 1.8 MB 4.6 MB/s eta 0:00:01\r\u001b[K     |█████████████████████████████▌  | 1.8 MB 4.6 MB/s eta 0:00:01\r\u001b[K     |█████████████████████████████▊  | 1.9 MB 4.6 MB/s eta 0:00:01\r\u001b[K     |█████████████████████████████▉  | 1.9 MB 4.6 MB/s eta 0:00:01\r\u001b[K     |██████████████████████████████  | 1.9 MB 4.6 MB/s eta 0:00:01\r\u001b[K     |██████████████████████████████▏ | 1.9 MB 4.6 MB/s eta 0:00:01\r\u001b[K     |██████████████████████████████▍ | 1.9 MB 4.6 MB/s eta 0:00:01\r\u001b[K     |██████████████████████████████▌ | 1.9 MB 4.6 MB/s eta 0:00:01\r\u001b[K     |██████████████████████████████▊ | 1.9 MB 4.6 MB/s eta 0:00:01\r\u001b[K     |██████████████████████████████▉ | 1.9 MB 4.6 MB/s eta 0:00:01\r\u001b[K     |███████████████████████████████ | 1.9 MB 4.6 MB/s eta 0:00:01\r\u001b[K     |███████████████████████████████▏| 1.9 MB 4.6 MB/s eta 0:00:01\r\u001b[K     |███████████████████████████████▍| 2.0 MB 4.6 MB/s eta 0:00:01\r\u001b[K     |███████████████████████████████▌| 2.0 MB 4.6 MB/s eta 0:00:01\r\u001b[K     |███████████████████████████████▊| 2.0 MB 4.6 MB/s eta 0:00:01\r\u001b[K     |███████████████████████████████▉| 2.0 MB 4.6 MB/s eta 0:00:01\r\u001b[K     |████████████████████████████████| 2.0 MB 4.6 MB/s \n",
            "\u001b[?25h"
          ]
        }
      ],
      "source": [
        "!pip install river -qqq"
      ]
    },
    {
      "cell_type": "markdown",
      "source": [
        "## 1. Adapative Random Forest (ARF)"
      ],
      "metadata": {
        "id": "87XIxCuxKIFe"
      }
    },
    {
      "cell_type": "code",
      "source": [
        "from river import synth\n",
        "from river import evaluate\n",
        "from river import metrics\n",
        "from river import ensemble\n",
        "\n",
        "gen = synth.Agrawal(classification_function=0, seed=42)\n",
        "# Take 1000 instances from the infinite data generator\n",
        "dataset = iter(gen.take(1000))\n",
        "\n",
        "# Instance of Adpative Random Forest Classifier\n",
        "model = ensemble.AdaptiveRandomForestClassifier(seed=8, leaf_prediction=\"mc\")\n",
        "metric = metrics.Accuracy()\n",
        "\n",
        "evaluate.progressive_val_score(dataset, model, metric)"
      ],
      "metadata": {
        "colab": {
          "base_uri": "https://localhost:8080/"
        },
        "id": "i9vF0TrpF6mO",
        "outputId": "3a023a83-d06e-4f85-b342-5dcae38a810f"
      },
      "execution_count": null,
      "outputs": [
        {
          "output_type": "execute_result",
          "data": {
            "text/plain": [
              "Accuracy: 92.69%"
            ]
          },
          "metadata": {},
          "execution_count": 3
        }
      ]
    },
    {
      "cell_type": "markdown",
      "source": [
        "## 1.2 Making a prediction with the ARF model"
      ],
      "metadata": {
        "id": "MTz_BtGYNUzr"
      }
    },
    {
      "cell_type": "code",
      "source": [
        "## Get one datapoint from Agrawal data generator\n",
        "list(iter(gen.take(1)))[0][0]"
      ],
      "metadata": {
        "colab": {
          "base_uri": "https://localhost:8080/"
        },
        "id": "BaMm6o43NiXX",
        "outputId": "e58a6657-ba75-42c1-81b6-e922ec957f66"
      },
      "execution_count": null,
      "outputs": [
        {
          "output_type": "execute_result",
          "data": {
            "text/plain": [
              "{'age': 62,\n",
              " 'car': 6,\n",
              " 'commission': 81303.57298074372,\n",
              " 'elevel': 4,\n",
              " 'hvalue': 419982.441072602,\n",
              " 'hyears': 11,\n",
              " 'loan': 433088.07288746757,\n",
              " 'salary': 68690.21545015712,\n",
              " 'zipcode': 2}"
            ]
          },
          "metadata": {},
          "execution_count": 17
        }
      ]
    },
    {
      "cell_type": "code",
      "source": [
        "## We will use the predict_one method to get a prediction.\n",
        "model.predict_one(list(iter(gen.take(1)))[0][0])"
      ],
      "metadata": {
        "colab": {
          "base_uri": "https://localhost:8080/"
        },
        "id": "qYCJ00RtKWr-",
        "outputId": "1f6aaad7-efb2-45d4-da19-f347acc42bd3"
      },
      "execution_count": null,
      "outputs": [
        {
          "output_type": "execute_result",
          "data": {
            "text/plain": [
              "1"
            ]
          },
          "metadata": {},
          "execution_count": 16
        }
      ]
    },
    {
      "cell_type": "markdown",
      "source": [
        "## 2. BagginClassifer for Online Bagging"
      ],
      "metadata": {
        "id": "yf-e-2GRSmgQ"
      }
    },
    {
      "cell_type": "code",
      "source": [
        "from river import datasets\n",
        "from river import ensemble\n",
        "from river import evaluate\n",
        "from river import linear_model\n",
        "from river import metrics\n",
        "from river import optim\n",
        "from river import preprocessing\n",
        "\n",
        "dataset = datasets.Phishing()\n",
        "\n",
        "# # run following to get details of dataset\n",
        "# dataset\n",
        "# # Taking a look at couple of the datapoints in dataset\n",
        "# list(dataset.take(2))\n",
        "\n",
        "\n",
        "## Build a simple logistic Regression for the task\n",
        "log_model = (preprocessing.StandardScaler() |\n",
        "             linear_model.LogisticRegression()\n",
        "    )\n",
        "\n",
        "## Build an Online Bagging Classifier\n",
        "online_bagging = ensemble.BaggingClassifier(\n",
        "    model=(\n",
        "        preprocessing.StandardScaler() |\n",
        "        linear_model.LogisticRegression()\n",
        "    ),\n",
        "    n_models=5,\n",
        ")\n",
        "\n",
        "# metric = metrics.F1()\n",
        "\n",
        "print(\"Logistic Regression model performance:\",evaluate.progressive_val_score(dataset, log_model, metric))\n",
        "print(\"Online Bagging model performance:\",evaluate.progressive_val_score(dataset, online_bagging, metric))\n",
        "\n"
      ],
      "metadata": {
        "colab": {
          "base_uri": "https://localhost:8080/"
        },
        "id": "ypCezVBBMqA1",
        "outputId": "fd3890ff-cb18-49e4-bc74-a0a8c13e3d74"
      },
      "execution_count": null,
      "outputs": [
        {
          "output_type": "stream",
          "name": "stdout",
          "text": [
            "Logistic Regression model performance: Accuracy: 89.34%\n",
            "Online Bagging model performance: Accuracy: 89.34%\n"
          ]
        }
      ]
    },
    {
      "cell_type": "markdown",
      "source": [
        "## 3. Online boosting"
      ],
      "metadata": {
        "id": "3hYgHhSRXyfP"
      }
    },
    {
      "cell_type": "code",
      "source": [
        "from river import datasets\n",
        "from river import ensemble\n",
        "from river import evaluate\n",
        "from river import linear_model\n",
        "from river import metrics\n",
        "from river import optim\n",
        "from river import preprocessing\n",
        "\n",
        "dataset = datasets.Phishing()\n",
        "\n",
        "# # run following to get details of dataset\n",
        "# dataset\n",
        "# # Taking a look at couple of the datapoints in dataset\n",
        "# list(dataset.take(2))\n",
        "\n",
        "\n",
        "## Build a simple logistic Regression for the task\n",
        "log_model = (preprocessing.StandardScaler() |\n",
        "             linear_model.LogisticRegression()\n",
        "    )\n",
        "\n",
        "## Build an Online Bagging Classifier\n",
        "online_boosting = ensemble.AdaBoostClassifier(\n",
        "    model=(\n",
        "        preprocessing.StandardScaler() |\n",
        "        linear_model.LogisticRegression()\n",
        "    ),\n",
        "    n_models=5,\n",
        ")\n",
        "\n",
        "# metric = metrics.F1()\n",
        "\n",
        "print(\"Logistic Regression model performance:\",evaluate.progressive_val_score(dataset, log_model, metric))\n",
        "print(\"Online AdaBoostClassifier model performance:\",evaluate.progressive_val_score(dataset, online_boosting, metric))\n",
        "\n"
      ],
      "metadata": {
        "colab": {
          "base_uri": "https://localhost:8080/"
        },
        "id": "3EZZ1_vBTfNs",
        "outputId": "3ef228d1-0d14-46c3-dd7c-cb457d085cc1"
      },
      "execution_count": null,
      "outputs": [
        {
          "output_type": "stream",
          "name": "stdout",
          "text": [
            "Logistic Regression model performance: Accuracy: 89.33%\n",
            "Online AdaBoostClassifier model performance: Accuracy: 89.34%\n"
          ]
        }
      ]
    },
    {
      "cell_type": "code",
      "source": [
        ""
      ],
      "metadata": {
        "id": "jVpCsfMIX2_T"
      },
      "execution_count": null,
      "outputs": []
    }
  ]
}